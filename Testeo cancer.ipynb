{
 "cells": [
  {
   "cell_type": "code",
   "execution_count": 19,
   "id": "2b65febd-aec5-4671-aa4b-6fcc6ef91856",
   "metadata": {},
   "outputs": [],
   "source": [
    "# Instalar las librerías necesarias\n",
    "from sklearn.model_selection import train_test_split\n",
    "from sklearn.svm import SVC\n",
    "from sklearn.ensemble import RandomForestClassifier\n",
    "from sklearn.metrics import classification_report\n",
    "from sklearn import datasets\n",
    "from sklearn import metrics\n",
    "import matplotlib.pyplot as plt\n",
    "import seaborn as sns\n",
    "from sklearn.metrics import confusion_matrix\n",
    "import pandas as pd\n",
    "from sklearn.linear_model import LogisticRegression\n",
    "from sklearn.neural_network import MLPClassifier\n",
    "from sklearn import naive_bayes\n",
    "from sklearn.tree import DecisionTreeClassifier\n"
   ]
  },
  {
   "cell_type": "code",
   "execution_count": 3,
   "id": "6ae73793-81ce-420c-8a99-94f2be6b1ff5",
   "metadata": {},
   "outputs": [],
   "source": [
    "#Paquetes para lectura y recuento\n",
    "from sklearn.datasets import load_breast_cancer\n",
    "import pandas as pd"
   ]
  },
  {
   "cell_type": "code",
   "execution_count": 4,
   "id": "23dc1872-1b33-4fdd-a495-500943eaf2c3",
   "metadata": {},
   "outputs": [
    {
     "name": "stdout",
     "output_type": "stream",
     "text": [
      "{'uci_id': 17, 'name': 'Breast Cancer Wisconsin (Diagnostic)', 'repository_url': 'https://archive.ics.uci.edu/dataset/17/breast+cancer+wisconsin+diagnostic', 'data_url': 'https://archive.ics.uci.edu/static/public/17/data.csv', 'abstract': 'Diagnostic Wisconsin Breast Cancer Database.', 'area': 'Health and Medicine', 'tasks': ['Classification'], 'characteristics': ['Multivariate'], 'num_instances': 569, 'num_features': 30, 'feature_types': ['Real'], 'demographics': [], 'target_col': ['Diagnosis'], 'index_col': ['ID'], 'has_missing_values': 'no', 'missing_values_symbol': None, 'year_of_dataset_creation': 1993, 'last_updated': 'Fri Nov 03 2023', 'dataset_doi': '10.24432/C5DW2B', 'creators': ['William Wolberg', 'Olvi Mangasarian', 'Nick Street', 'W. Street'], 'intro_paper': {'title': 'Nuclear feature extraction for breast tumor diagnosis', 'authors': 'W. Street, W. Wolberg, O. Mangasarian', 'published_in': 'Electronic imaging', 'year': 1993, 'url': 'https://www.semanticscholar.org/paper/53f0fbb425bc14468eb3bf96b2e1d41ba8087f36', 'doi': '10.1117/12.148698'}, 'additional_info': {'summary': 'Features are computed from a digitized image of a fine needle aspirate (FNA) of a breast mass.  They describe characteristics of the cell nuclei present in the image. A few of the images can be found at http://www.cs.wisc.edu/~street/images/\\r\\n\\r\\nSeparating plane described above was obtained using Multisurface Method-Tree (MSM-T) [K. P. Bennett, \"Decision Tree Construction Via Linear Programming.\" Proceedings of the 4th Midwest Artificial Intelligence and Cognitive Science Society, pp. 97-101, 1992], a classification method which uses linear programming to construct a decision tree.  Relevant features were selected using an exhaustive search in the space of 1-4 features and 1-3 separating planes.\\r\\n\\r\\nThe actual linear program used to obtain the separating plane in the 3-dimensional space is that described in: [K. P. Bennett and O. L. Mangasarian: \"Robust Linear Programming Discrimination of Two Linearly Inseparable Sets\", Optimization Methods and Software 1, 1992, 23-34].\\r\\n\\r\\nThis database is also available through the UW CS ftp server:\\r\\nftp ftp.cs.wisc.edu\\r\\ncd math-prog/cpo-dataset/machine-learn/WDBC/', 'purpose': None, 'funded_by': None, 'instances_represent': None, 'recommended_data_splits': None, 'sensitive_data': None, 'preprocessing_description': None, 'variable_info': '1) ID number\\r\\n2) Diagnosis (M = malignant, B = benign)\\r\\n3-32)\\r\\n\\r\\nTen real-valued features are computed for each cell nucleus:\\r\\n\\r\\n\\ta) radius (mean of distances from center to points on the perimeter)\\r\\n\\tb) texture (standard deviation of gray-scale values)\\r\\n\\tc) perimeter\\r\\n\\td) area\\r\\n\\te) smoothness (local variation in radius lengths)\\r\\n\\tf) compactness (perimeter^2 / area - 1.0)\\r\\n\\tg) concavity (severity of concave portions of the contour)\\r\\n\\th) concave points (number of concave portions of the contour)\\r\\n\\ti) symmetry \\r\\n\\tj) fractal dimension (\"coastline approximation\" - 1)', 'citation': None}}\n",
      "                  name     role         type demographic description units  \\\n",
      "0                   ID       ID  Categorical        None        None  None   \n",
      "1            Diagnosis   Target  Categorical        None        None  None   \n",
      "2              radius1  Feature   Continuous        None        None  None   \n",
      "3             texture1  Feature   Continuous        None        None  None   \n",
      "4           perimeter1  Feature   Continuous        None        None  None   \n",
      "5                area1  Feature   Continuous        None        None  None   \n",
      "6          smoothness1  Feature   Continuous        None        None  None   \n",
      "7         compactness1  Feature   Continuous        None        None  None   \n",
      "8           concavity1  Feature   Continuous        None        None  None   \n",
      "9      concave_points1  Feature   Continuous        None        None  None   \n",
      "10           symmetry1  Feature   Continuous        None        None  None   \n",
      "11  fractal_dimension1  Feature   Continuous        None        None  None   \n",
      "12             radius2  Feature   Continuous        None        None  None   \n",
      "13            texture2  Feature   Continuous        None        None  None   \n",
      "14          perimeter2  Feature   Continuous        None        None  None   \n",
      "15               area2  Feature   Continuous        None        None  None   \n",
      "16         smoothness2  Feature   Continuous        None        None  None   \n",
      "17        compactness2  Feature   Continuous        None        None  None   \n",
      "18          concavity2  Feature   Continuous        None        None  None   \n",
      "19     concave_points2  Feature   Continuous        None        None  None   \n",
      "20           symmetry2  Feature   Continuous        None        None  None   \n",
      "21  fractal_dimension2  Feature   Continuous        None        None  None   \n",
      "22             radius3  Feature   Continuous        None        None  None   \n",
      "23            texture3  Feature   Continuous        None        None  None   \n",
      "24          perimeter3  Feature   Continuous        None        None  None   \n",
      "25               area3  Feature   Continuous        None        None  None   \n",
      "26         smoothness3  Feature   Continuous        None        None  None   \n",
      "27        compactness3  Feature   Continuous        None        None  None   \n",
      "28          concavity3  Feature   Continuous        None        None  None   \n",
      "29     concave_points3  Feature   Continuous        None        None  None   \n",
      "30           symmetry3  Feature   Continuous        None        None  None   \n",
      "31  fractal_dimension3  Feature   Continuous        None        None  None   \n",
      "\n",
      "   missing_values  \n",
      "0              no  \n",
      "1              no  \n",
      "2              no  \n",
      "3              no  \n",
      "4              no  \n",
      "5              no  \n",
      "6              no  \n",
      "7              no  \n",
      "8              no  \n",
      "9              no  \n",
      "10             no  \n",
      "11             no  \n",
      "12             no  \n",
      "13             no  \n",
      "14             no  \n",
      "15             no  \n",
      "16             no  \n",
      "17             no  \n",
      "18             no  \n",
      "19             no  \n",
      "20             no  \n",
      "21             no  \n",
      "22             no  \n",
      "23             no  \n",
      "24             no  \n",
      "25             no  \n",
      "26             no  \n",
      "27             no  \n",
      "28             no  \n",
      "29             no  \n",
      "30             no  \n",
      "31             no  \n"
     ]
    }
   ],
   "source": [
    "from ucimlrepo import fetch_ucirepo\n",
    "  \n",
    "# fetch dataset \n",
    "breast_cancer_wisconsin_diagnostic = fetch_ucirepo(id=17) \n",
    "  \n",
    "# data (as pandas dataframes) \n",
    "X = breast_cancer_wisconsin_diagnostic.data.features \n",
    "y = breast_cancer_wisconsin_diagnostic.data.targets \n",
    "  \n",
    "# metadata \n",
    "print(breast_cancer_wisconsin_diagnostic.metadata) \n",
    "  \n",
    "# variable information \n",
    "print(breast_cancer_wisconsin_diagnostic.variables)"
   ]
  },
  {
   "cell_type": "code",
   "execution_count": 59,
   "id": "e4f7c8f8-3dd9-40c1-a2cc-7bf9458bce40",
   "metadata": {},
   "outputs": [
    {
     "data": {
      "text/plain": [
       "{'data': {'ids':            ID\n",
       "  0      842302\n",
       "  1      842517\n",
       "  2    84300903\n",
       "  3    84348301\n",
       "  4    84358402\n",
       "  ..        ...\n",
       "  564    926424\n",
       "  565    926682\n",
       "  566    926954\n",
       "  567    927241\n",
       "  568     92751\n",
       "  \n",
       "  [569 rows x 1 columns],\n",
       "  'features':      radius1  texture1  perimeter1   area1  smoothness1  compactness1  \\\n",
       "  0      17.99     10.38      122.80  1001.0      0.11840       0.27760   \n",
       "  1      20.57     17.77      132.90  1326.0      0.08474       0.07864   \n",
       "  2      19.69     21.25      130.00  1203.0      0.10960       0.15990   \n",
       "  3      11.42     20.38       77.58   386.1      0.14250       0.28390   \n",
       "  4      20.29     14.34      135.10  1297.0      0.10030       0.13280   \n",
       "  ..       ...       ...         ...     ...          ...           ...   \n",
       "  564    21.56     22.39      142.00  1479.0      0.11100       0.11590   \n",
       "  565    20.13     28.25      131.20  1261.0      0.09780       0.10340   \n",
       "  566    16.60     28.08      108.30   858.1      0.08455       0.10230   \n",
       "  567    20.60     29.33      140.10  1265.0      0.11780       0.27700   \n",
       "  568     7.76     24.54       47.92   181.0      0.05263       0.04362   \n",
       "  \n",
       "       concavity1  concave_points1  symmetry1  fractal_dimension1  ...  radius3  \\\n",
       "  0       0.30010          0.14710     0.2419             0.07871  ...   25.380   \n",
       "  1       0.08690          0.07017     0.1812             0.05667  ...   24.990   \n",
       "  2       0.19740          0.12790     0.2069             0.05999  ...   23.570   \n",
       "  3       0.24140          0.10520     0.2597             0.09744  ...   14.910   \n",
       "  4       0.19800          0.10430     0.1809             0.05883  ...   22.540   \n",
       "  ..          ...              ...        ...                 ...  ...      ...   \n",
       "  564     0.24390          0.13890     0.1726             0.05623  ...   25.450   \n",
       "  565     0.14400          0.09791     0.1752             0.05533  ...   23.690   \n",
       "  566     0.09251          0.05302     0.1590             0.05648  ...   18.980   \n",
       "  567     0.35140          0.15200     0.2397             0.07016  ...   25.740   \n",
       "  568     0.00000          0.00000     0.1587             0.05884  ...    9.456   \n",
       "  \n",
       "       texture3  perimeter3   area3  smoothness3  compactness3  concavity3  \\\n",
       "  0       17.33      184.60  2019.0      0.16220       0.66560      0.7119   \n",
       "  1       23.41      158.80  1956.0      0.12380       0.18660      0.2416   \n",
       "  2       25.53      152.50  1709.0      0.14440       0.42450      0.4504   \n",
       "  3       26.50       98.87   567.7      0.20980       0.86630      0.6869   \n",
       "  4       16.67      152.20  1575.0      0.13740       0.20500      0.4000   \n",
       "  ..        ...         ...     ...          ...           ...         ...   \n",
       "  564     26.40      166.10  2027.0      0.14100       0.21130      0.4107   \n",
       "  565     38.25      155.00  1731.0      0.11660       0.19220      0.3215   \n",
       "  566     34.12      126.70  1124.0      0.11390       0.30940      0.3403   \n",
       "  567     39.42      184.60  1821.0      0.16500       0.86810      0.9387   \n",
       "  568     30.37       59.16   268.6      0.08996       0.06444      0.0000   \n",
       "  \n",
       "       concave_points3  symmetry3  fractal_dimension3  \n",
       "  0             0.2654     0.4601             0.11890  \n",
       "  1             0.1860     0.2750             0.08902  \n",
       "  2             0.2430     0.3613             0.08758  \n",
       "  3             0.2575     0.6638             0.17300  \n",
       "  4             0.1625     0.2364             0.07678  \n",
       "  ..               ...        ...                 ...  \n",
       "  564           0.2216     0.2060             0.07115  \n",
       "  565           0.1628     0.2572             0.06637  \n",
       "  566           0.1418     0.2218             0.07820  \n",
       "  567           0.2650     0.4087             0.12400  \n",
       "  568           0.0000     0.2871             0.07039  \n",
       "  \n",
       "  [569 rows x 30 columns],\n",
       "  'targets':     Diagnosis\n",
       "  0           M\n",
       "  1           M\n",
       "  2           M\n",
       "  3           M\n",
       "  4           M\n",
       "  ..        ...\n",
       "  564         M\n",
       "  565         M\n",
       "  566         M\n",
       "  567         M\n",
       "  568         B\n",
       "  \n",
       "  [569 rows x 1 columns],\n",
       "  'original':            ID  radius1  texture1  perimeter1   area1  smoothness1  \\\n",
       "  0      842302    17.99     10.38      122.80  1001.0      0.11840   \n",
       "  1      842517    20.57     17.77      132.90  1326.0      0.08474   \n",
       "  2    84300903    19.69     21.25      130.00  1203.0      0.10960   \n",
       "  3    84348301    11.42     20.38       77.58   386.1      0.14250   \n",
       "  4    84358402    20.29     14.34      135.10  1297.0      0.10030   \n",
       "  ..        ...      ...       ...         ...     ...          ...   \n",
       "  564    926424    21.56     22.39      142.00  1479.0      0.11100   \n",
       "  565    926682    20.13     28.25      131.20  1261.0      0.09780   \n",
       "  566    926954    16.60     28.08      108.30   858.1      0.08455   \n",
       "  567    927241    20.60     29.33      140.10  1265.0      0.11780   \n",
       "  568     92751     7.76     24.54       47.92   181.0      0.05263   \n",
       "  \n",
       "       compactness1  concavity1  concave_points1  symmetry1  ...  texture3  \\\n",
       "  0         0.27760     0.30010          0.14710     0.2419  ...     17.33   \n",
       "  1         0.07864     0.08690          0.07017     0.1812  ...     23.41   \n",
       "  2         0.15990     0.19740          0.12790     0.2069  ...     25.53   \n",
       "  3         0.28390     0.24140          0.10520     0.2597  ...     26.50   \n",
       "  4         0.13280     0.19800          0.10430     0.1809  ...     16.67   \n",
       "  ..            ...         ...              ...        ...  ...       ...   \n",
       "  564       0.11590     0.24390          0.13890     0.1726  ...     26.40   \n",
       "  565       0.10340     0.14400          0.09791     0.1752  ...     38.25   \n",
       "  566       0.10230     0.09251          0.05302     0.1590  ...     34.12   \n",
       "  567       0.27700     0.35140          0.15200     0.2397  ...     39.42   \n",
       "  568       0.04362     0.00000          0.00000     0.1587  ...     30.37   \n",
       "  \n",
       "       perimeter3   area3  smoothness3  compactness3  concavity3  \\\n",
       "  0        184.60  2019.0      0.16220       0.66560      0.7119   \n",
       "  1        158.80  1956.0      0.12380       0.18660      0.2416   \n",
       "  2        152.50  1709.0      0.14440       0.42450      0.4504   \n",
       "  3         98.87   567.7      0.20980       0.86630      0.6869   \n",
       "  4        152.20  1575.0      0.13740       0.20500      0.4000   \n",
       "  ..          ...     ...          ...           ...         ...   \n",
       "  564      166.10  2027.0      0.14100       0.21130      0.4107   \n",
       "  565      155.00  1731.0      0.11660       0.19220      0.3215   \n",
       "  566      126.70  1124.0      0.11390       0.30940      0.3403   \n",
       "  567      184.60  1821.0      0.16500       0.86810      0.9387   \n",
       "  568       59.16   268.6      0.08996       0.06444      0.0000   \n",
       "  \n",
       "       concave_points3  symmetry3  fractal_dimension3  Diagnosis  \n",
       "  0             0.2654     0.4601             0.11890          M  \n",
       "  1             0.1860     0.2750             0.08902          M  \n",
       "  2             0.2430     0.3613             0.08758          M  \n",
       "  3             0.2575     0.6638             0.17300          M  \n",
       "  4             0.1625     0.2364             0.07678          M  \n",
       "  ..               ...        ...                 ...        ...  \n",
       "  564           0.2216     0.2060             0.07115          M  \n",
       "  565           0.1628     0.2572             0.06637          M  \n",
       "  566           0.1418     0.2218             0.07820          M  \n",
       "  567           0.2650     0.4087             0.12400          M  \n",
       "  568           0.0000     0.2871             0.07039          B  \n",
       "  \n",
       "  [569 rows x 32 columns],\n",
       "  'headers': Index(['ID', 'radius1', 'texture1', 'perimeter1', 'area1', 'smoothness1',\n",
       "         'compactness1', 'concavity1', 'concave_points1', 'symmetry1',\n",
       "         'fractal_dimension1', 'radius2', 'texture2', 'perimeter2', 'area2',\n",
       "         'smoothness2', 'compactness2', 'concavity2', 'concave_points2',\n",
       "         'symmetry2', 'fractal_dimension2', 'radius3', 'texture3', 'perimeter3',\n",
       "         'area3', 'smoothness3', 'compactness3', 'concavity3', 'concave_points3',\n",
       "         'symmetry3', 'fractal_dimension3', 'Diagnosis'],\n",
       "        dtype='object')},\n",
       " 'metadata': {'uci_id': 17,\n",
       "  'name': 'Breast Cancer Wisconsin (Diagnostic)',\n",
       "  'repository_url': 'https://archive.ics.uci.edu/dataset/17/breast+cancer+wisconsin+diagnostic',\n",
       "  'data_url': 'https://archive.ics.uci.edu/static/public/17/data.csv',\n",
       "  'abstract': 'Diagnostic Wisconsin Breast Cancer Database.',\n",
       "  'area': 'Health and Medicine',\n",
       "  'tasks': ['Classification'],\n",
       "  'characteristics': ['Multivariate'],\n",
       "  'num_instances': 569,\n",
       "  'num_features': 30,\n",
       "  'feature_types': ['Real'],\n",
       "  'demographics': [],\n",
       "  'target_col': ['Diagnosis'],\n",
       "  'index_col': ['ID'],\n",
       "  'has_missing_values': 'no',\n",
       "  'missing_values_symbol': None,\n",
       "  'year_of_dataset_creation': 1993,\n",
       "  'last_updated': 'Fri Nov 03 2023',\n",
       "  'dataset_doi': '10.24432/C5DW2B',\n",
       "  'creators': ['William Wolberg',\n",
       "   'Olvi Mangasarian',\n",
       "   'Nick Street',\n",
       "   'W. Street'],\n",
       "  'intro_paper': {'title': 'Nuclear feature extraction for breast tumor diagnosis',\n",
       "   'authors': 'W. Street, W. Wolberg, O. Mangasarian',\n",
       "   'published_in': 'Electronic imaging',\n",
       "   'year': 1993,\n",
       "   'url': 'https://www.semanticscholar.org/paper/53f0fbb425bc14468eb3bf96b2e1d41ba8087f36',\n",
       "   'doi': '10.1117/12.148698'},\n",
       "  'additional_info': {'summary': 'Features are computed from a digitized image of a fine needle aspirate (FNA) of a breast mass.  They describe characteristics of the cell nuclei present in the image. A few of the images can be found at http://www.cs.wisc.edu/~street/images/\\r\\n\\r\\nSeparating plane described above was obtained using Multisurface Method-Tree (MSM-T) [K. P. Bennett, \"Decision Tree Construction Via Linear Programming.\" Proceedings of the 4th Midwest Artificial Intelligence and Cognitive Science Society, pp. 97-101, 1992], a classification method which uses linear programming to construct a decision tree.  Relevant features were selected using an exhaustive search in the space of 1-4 features and 1-3 separating planes.\\r\\n\\r\\nThe actual linear program used to obtain the separating plane in the 3-dimensional space is that described in: [K. P. Bennett and O. L. Mangasarian: \"Robust Linear Programming Discrimination of Two Linearly Inseparable Sets\", Optimization Methods and Software 1, 1992, 23-34].\\r\\n\\r\\nThis database is also available through the UW CS ftp server:\\r\\nftp ftp.cs.wisc.edu\\r\\ncd math-prog/cpo-dataset/machine-learn/WDBC/',\n",
       "   'purpose': None,\n",
       "   'funded_by': None,\n",
       "   'instances_represent': None,\n",
       "   'recommended_data_splits': None,\n",
       "   'sensitive_data': None,\n",
       "   'preprocessing_description': None,\n",
       "   'variable_info': '1) ID number\\r\\n2) Diagnosis (M = malignant, B = benign)\\r\\n3-32)\\r\\n\\r\\nTen real-valued features are computed for each cell nucleus:\\r\\n\\r\\n\\ta) radius (mean of distances from center to points on the perimeter)\\r\\n\\tb) texture (standard deviation of gray-scale values)\\r\\n\\tc) perimeter\\r\\n\\td) area\\r\\n\\te) smoothness (local variation in radius lengths)\\r\\n\\tf) compactness (perimeter^2 / area - 1.0)\\r\\n\\tg) concavity (severity of concave portions of the contour)\\r\\n\\th) concave points (number of concave portions of the contour)\\r\\n\\ti) symmetry \\r\\n\\tj) fractal dimension (\"coastline approximation\" - 1)',\n",
       "   'citation': None}},\n",
       " 'variables':                   name     role         type demographic description units  \\\n",
       " 0                   ID       ID  Categorical        None        None  None   \n",
       " 1            Diagnosis   Target  Categorical        None        None  None   \n",
       " 2              radius1  Feature   Continuous        None        None  None   \n",
       " 3             texture1  Feature   Continuous        None        None  None   \n",
       " 4           perimeter1  Feature   Continuous        None        None  None   \n",
       " 5                area1  Feature   Continuous        None        None  None   \n",
       " 6          smoothness1  Feature   Continuous        None        None  None   \n",
       " 7         compactness1  Feature   Continuous        None        None  None   \n",
       " 8           concavity1  Feature   Continuous        None        None  None   \n",
       " 9      concave_points1  Feature   Continuous        None        None  None   \n",
       " 10           symmetry1  Feature   Continuous        None        None  None   \n",
       " 11  fractal_dimension1  Feature   Continuous        None        None  None   \n",
       " 12             radius2  Feature   Continuous        None        None  None   \n",
       " 13            texture2  Feature   Continuous        None        None  None   \n",
       " 14          perimeter2  Feature   Continuous        None        None  None   \n",
       " 15               area2  Feature   Continuous        None        None  None   \n",
       " 16         smoothness2  Feature   Continuous        None        None  None   \n",
       " 17        compactness2  Feature   Continuous        None        None  None   \n",
       " 18          concavity2  Feature   Continuous        None        None  None   \n",
       " 19     concave_points2  Feature   Continuous        None        None  None   \n",
       " 20           symmetry2  Feature   Continuous        None        None  None   \n",
       " 21  fractal_dimension2  Feature   Continuous        None        None  None   \n",
       " 22             radius3  Feature   Continuous        None        None  None   \n",
       " 23            texture3  Feature   Continuous        None        None  None   \n",
       " 24          perimeter3  Feature   Continuous        None        None  None   \n",
       " 25               area3  Feature   Continuous        None        None  None   \n",
       " 26         smoothness3  Feature   Continuous        None        None  None   \n",
       " 27        compactness3  Feature   Continuous        None        None  None   \n",
       " 28          concavity3  Feature   Continuous        None        None  None   \n",
       " 29     concave_points3  Feature   Continuous        None        None  None   \n",
       " 30           symmetry3  Feature   Continuous        None        None  None   \n",
       " 31  fractal_dimension3  Feature   Continuous        None        None  None   \n",
       " \n",
       "    missing_values  \n",
       " 0              no  \n",
       " 1              no  \n",
       " 2              no  \n",
       " 3              no  \n",
       " 4              no  \n",
       " 5              no  \n",
       " 6              no  \n",
       " 7              no  \n",
       " 8              no  \n",
       " 9              no  \n",
       " 10             no  \n",
       " 11             no  \n",
       " 12             no  \n",
       " 13             no  \n",
       " 14             no  \n",
       " 15             no  \n",
       " 16             no  \n",
       " 17             no  \n",
       " 18             no  \n",
       " 19             no  \n",
       " 20             no  \n",
       " 21             no  \n",
       " 22             no  \n",
       " 23             no  \n",
       " 24             no  \n",
       " 25             no  \n",
       " 26             no  \n",
       " 27             no  \n",
       " 28             no  \n",
       " 29             no  \n",
       " 30             no  \n",
       " 31             no  }"
      ]
     },
     "execution_count": 59,
     "metadata": {},
     "output_type": "execute_result"
    }
   ],
   "source": [
    "breast_cancer_wisconsin_diagnostic"
   ]
  },
  {
   "cell_type": "code",
   "execution_count": 5,
   "id": "24a2bcb8-f8ec-47c1-8757-f33300580b16",
   "metadata": {},
   "outputs": [],
   "source": [
    "#Primero importamos los datos que vamos a leer\n",
    "cancer_data = load_breast_cancer()"
   ]
  },
  {
   "cell_type": "code",
   "execution_count": 6,
   "id": "682cc066-697e-4359-aa5a-6eb11eaedf95",
   "metadata": {},
   "outputs": [
    {
     "name": "stdout",
     "output_type": "stream",
     "text": [
      "Benignos:  Tumor Type    357\n",
      "dtype: int64  , Malignos:  Tumor Type    212\n",
      "dtype: int64\n"
     ]
    }
   ],
   "source": [
    "#Pasamos los datos a un DataFrame (datos en pandas)\n",
    "X = pd.DataFrame(cancer_data['data'], columns = cancer_data['feature_names'])\n",
    "y = pd.DataFrame(cancer_data['target'],columns = ['Tumor Type'])\n",
    "\n",
    "#Tomamos las caracteísticas explicativas\n",
    "\n",
    "X = X[['mean radius', 'mean texture','mean perimeter']]\n",
    "X\n",
    "\n",
    "Benigno = y.sum()\n",
    "Maligno = y.shape[0]- Benigno\n",
    "print('Benignos: ', Benigno, ' , Malignos: ', Maligno )"
   ]
  },
  {
   "cell_type": "code",
   "execution_count": 51,
   "id": "13a00dff-1fd2-4c63-8495-b0038cea91bd",
   "metadata": {},
   "outputs": [
    {
     "data": {
      "text/plain": [
       "Tumor Type    357\n",
       "dtype: int64"
      ]
     },
     "execution_count": 51,
     "metadata": {},
     "output_type": "execute_result"
    }
   ],
   "source": [
    "Benigno"
   ]
  },
  {
   "cell_type": "code",
   "execution_count": 62,
   "id": "9d49fe21-920f-4673-82d2-9ae584ffd337",
   "metadata": {},
   "outputs": [
    {
     "data": {
      "text/html": [
       "<div>\n",
       "<style scoped>\n",
       "    .dataframe tbody tr th:only-of-type {\n",
       "        vertical-align: middle;\n",
       "    }\n",
       "\n",
       "    .dataframe tbody tr th {\n",
       "        vertical-align: top;\n",
       "    }\n",
       "\n",
       "    .dataframe thead th {\n",
       "        text-align: right;\n",
       "    }\n",
       "</style>\n",
       "<table border=\"1\" class=\"dataframe\">\n",
       "  <thead>\n",
       "    <tr style=\"text-align: right;\">\n",
       "      <th></th>\n",
       "      <th>mean radius</th>\n",
       "      <th>mean texture</th>\n",
       "      <th>mean perimeter</th>\n",
       "    </tr>\n",
       "  </thead>\n",
       "  <tbody>\n",
       "    <tr>\n",
       "      <th>0</th>\n",
       "      <td>17.99</td>\n",
       "      <td>10.38</td>\n",
       "      <td>122.80</td>\n",
       "    </tr>\n",
       "    <tr>\n",
       "      <th>1</th>\n",
       "      <td>20.57</td>\n",
       "      <td>17.77</td>\n",
       "      <td>132.90</td>\n",
       "    </tr>\n",
       "    <tr>\n",
       "      <th>2</th>\n",
       "      <td>19.69</td>\n",
       "      <td>21.25</td>\n",
       "      <td>130.00</td>\n",
       "    </tr>\n",
       "    <tr>\n",
       "      <th>3</th>\n",
       "      <td>11.42</td>\n",
       "      <td>20.38</td>\n",
       "      <td>77.58</td>\n",
       "    </tr>\n",
       "    <tr>\n",
       "      <th>4</th>\n",
       "      <td>20.29</td>\n",
       "      <td>14.34</td>\n",
       "      <td>135.10</td>\n",
       "    </tr>\n",
       "    <tr>\n",
       "      <th>...</th>\n",
       "      <td>...</td>\n",
       "      <td>...</td>\n",
       "      <td>...</td>\n",
       "    </tr>\n",
       "    <tr>\n",
       "      <th>564</th>\n",
       "      <td>21.56</td>\n",
       "      <td>22.39</td>\n",
       "      <td>142.00</td>\n",
       "    </tr>\n",
       "    <tr>\n",
       "      <th>565</th>\n",
       "      <td>20.13</td>\n",
       "      <td>28.25</td>\n",
       "      <td>131.20</td>\n",
       "    </tr>\n",
       "    <tr>\n",
       "      <th>566</th>\n",
       "      <td>16.60</td>\n",
       "      <td>28.08</td>\n",
       "      <td>108.30</td>\n",
       "    </tr>\n",
       "    <tr>\n",
       "      <th>567</th>\n",
       "      <td>20.60</td>\n",
       "      <td>29.33</td>\n",
       "      <td>140.10</td>\n",
       "    </tr>\n",
       "    <tr>\n",
       "      <th>568</th>\n",
       "      <td>7.76</td>\n",
       "      <td>24.54</td>\n",
       "      <td>47.92</td>\n",
       "    </tr>\n",
       "  </tbody>\n",
       "</table>\n",
       "<p>569 rows × 3 columns</p>\n",
       "</div>"
      ],
      "text/plain": [
       "     mean radius  mean texture  mean perimeter\n",
       "0          17.99         10.38          122.80\n",
       "1          20.57         17.77          132.90\n",
       "2          19.69         21.25          130.00\n",
       "3          11.42         20.38           77.58\n",
       "4          20.29         14.34          135.10\n",
       "..           ...           ...             ...\n",
       "564        21.56         22.39          142.00\n",
       "565        20.13         28.25          131.20\n",
       "566        16.60         28.08          108.30\n",
       "567        20.60         29.33          140.10\n",
       "568         7.76         24.54           47.92\n",
       "\n",
       "[569 rows x 3 columns]"
      ]
     },
     "execution_count": 62,
     "metadata": {},
     "output_type": "execute_result"
    }
   ],
   "source": [
    "X"
   ]
  },
  {
   "cell_type": "code",
   "execution_count": 52,
   "id": "1db0b54e-2381-4d3a-96b6-bc6723be0236",
   "metadata": {},
   "outputs": [
    {
     "data": {
      "text/html": [
       "<div>\n",
       "<style scoped>\n",
       "    .dataframe tbody tr th:only-of-type {\n",
       "        vertical-align: middle;\n",
       "    }\n",
       "\n",
       "    .dataframe tbody tr th {\n",
       "        vertical-align: top;\n",
       "    }\n",
       "\n",
       "    .dataframe thead th {\n",
       "        text-align: right;\n",
       "    }\n",
       "</style>\n",
       "<table border=\"1\" class=\"dataframe\">\n",
       "  <thead>\n",
       "    <tr style=\"text-align: right;\">\n",
       "      <th></th>\n",
       "      <th>Tumor Type</th>\n",
       "    </tr>\n",
       "  </thead>\n",
       "  <tbody>\n",
       "    <tr>\n",
       "      <th>0</th>\n",
       "      <td>0</td>\n",
       "    </tr>\n",
       "    <tr>\n",
       "      <th>1</th>\n",
       "      <td>0</td>\n",
       "    </tr>\n",
       "    <tr>\n",
       "      <th>2</th>\n",
       "      <td>0</td>\n",
       "    </tr>\n",
       "    <tr>\n",
       "      <th>3</th>\n",
       "      <td>0</td>\n",
       "    </tr>\n",
       "    <tr>\n",
       "      <th>4</th>\n",
       "      <td>0</td>\n",
       "    </tr>\n",
       "    <tr>\n",
       "      <th>...</th>\n",
       "      <td>...</td>\n",
       "    </tr>\n",
       "    <tr>\n",
       "      <th>564</th>\n",
       "      <td>0</td>\n",
       "    </tr>\n",
       "    <tr>\n",
       "      <th>565</th>\n",
       "      <td>0</td>\n",
       "    </tr>\n",
       "    <tr>\n",
       "      <th>566</th>\n",
       "      <td>0</td>\n",
       "    </tr>\n",
       "    <tr>\n",
       "      <th>567</th>\n",
       "      <td>0</td>\n",
       "    </tr>\n",
       "    <tr>\n",
       "      <th>568</th>\n",
       "      <td>1</td>\n",
       "    </tr>\n",
       "  </tbody>\n",
       "</table>\n",
       "<p>569 rows × 1 columns</p>\n",
       "</div>"
      ],
      "text/plain": [
       "     Tumor Type\n",
       "0             0\n",
       "1             0\n",
       "2             0\n",
       "3             0\n",
       "4             0\n",
       "..          ...\n",
       "564           0\n",
       "565           0\n",
       "566           0\n",
       "567           0\n",
       "568           1\n",
       "\n",
       "[569 rows x 1 columns]"
      ]
     },
     "execution_count": 52,
     "metadata": {},
     "output_type": "execute_result"
    }
   ],
   "source": [
    "y"
   ]
  },
  {
   "cell_type": "code",
   "execution_count": 67,
   "id": "f5580b90-b6c6-4ac3-a539-ac1362564909",
   "metadata": {},
   "outputs": [],
   "source": [
    "#MODELO REGRESIÓN LOGISTICA\n",
    "modelLR = LogisticRegression()"
   ]
  },
  {
   "cell_type": "code",
   "execution_count": 68,
   "id": "4c5090d9-25d2-41e6-864a-9250a3df800f",
   "metadata": {},
   "outputs": [],
   "source": [
    "# Se divide el conjunto de datos en datos de entrenamiento y prueba\n",
    "X_train, X_test, y_train, y_test = train_test_split(X,y, random_state=42)"
   ]
  },
  {
   "cell_type": "code",
   "execution_count": 10,
   "id": "75e784a7-e36f-44ee-a2c1-7a0b36285f35",
   "metadata": {},
   "outputs": [
    {
     "data": {
      "text/html": [
       "<div>\n",
       "<style scoped>\n",
       "    .dataframe tbody tr th:only-of-type {\n",
       "        vertical-align: middle;\n",
       "    }\n",
       "\n",
       "    .dataframe tbody tr th {\n",
       "        vertical-align: top;\n",
       "    }\n",
       "\n",
       "    .dataframe thead th {\n",
       "        text-align: right;\n",
       "    }\n",
       "</style>\n",
       "<table border=\"1\" class=\"dataframe\">\n",
       "  <thead>\n",
       "    <tr style=\"text-align: right;\">\n",
       "      <th></th>\n",
       "      <th>mean radius</th>\n",
       "      <th>mean texture</th>\n",
       "      <th>mean perimeter</th>\n",
       "    </tr>\n",
       "  </thead>\n",
       "  <tbody>\n",
       "    <tr>\n",
       "      <th>293</th>\n",
       "      <td>11.850</td>\n",
       "      <td>17.46</td>\n",
       "      <td>75.54</td>\n",
       "    </tr>\n",
       "    <tr>\n",
       "      <th>332</th>\n",
       "      <td>11.220</td>\n",
       "      <td>19.86</td>\n",
       "      <td>71.94</td>\n",
       "    </tr>\n",
       "    <tr>\n",
       "      <th>565</th>\n",
       "      <td>20.130</td>\n",
       "      <td>28.25</td>\n",
       "      <td>131.20</td>\n",
       "    </tr>\n",
       "    <tr>\n",
       "      <th>278</th>\n",
       "      <td>13.590</td>\n",
       "      <td>17.84</td>\n",
       "      <td>86.24</td>\n",
       "    </tr>\n",
       "    <tr>\n",
       "      <th>489</th>\n",
       "      <td>16.690</td>\n",
       "      <td>20.20</td>\n",
       "      <td>107.10</td>\n",
       "    </tr>\n",
       "    <tr>\n",
       "      <th>...</th>\n",
       "      <td>...</td>\n",
       "      <td>...</td>\n",
       "      <td>...</td>\n",
       "    </tr>\n",
       "    <tr>\n",
       "      <th>277</th>\n",
       "      <td>18.810</td>\n",
       "      <td>19.98</td>\n",
       "      <td>120.90</td>\n",
       "    </tr>\n",
       "    <tr>\n",
       "      <th>9</th>\n",
       "      <td>12.460</td>\n",
       "      <td>24.04</td>\n",
       "      <td>83.97</td>\n",
       "    </tr>\n",
       "    <tr>\n",
       "      <th>359</th>\n",
       "      <td>9.436</td>\n",
       "      <td>18.32</td>\n",
       "      <td>59.82</td>\n",
       "    </tr>\n",
       "    <tr>\n",
       "      <th>192</th>\n",
       "      <td>9.720</td>\n",
       "      <td>18.22</td>\n",
       "      <td>60.73</td>\n",
       "    </tr>\n",
       "    <tr>\n",
       "      <th>559</th>\n",
       "      <td>11.510</td>\n",
       "      <td>23.93</td>\n",
       "      <td>74.52</td>\n",
       "    </tr>\n",
       "  </tbody>\n",
       "</table>\n",
       "<p>426 rows × 3 columns</p>\n",
       "</div>"
      ],
      "text/plain": [
       "     mean radius  mean texture  mean perimeter\n",
       "293       11.850         17.46           75.54\n",
       "332       11.220         19.86           71.94\n",
       "565       20.130         28.25          131.20\n",
       "278       13.590         17.84           86.24\n",
       "489       16.690         20.20          107.10\n",
       "..           ...           ...             ...\n",
       "277       18.810         19.98          120.90\n",
       "9         12.460         24.04           83.97\n",
       "359        9.436         18.32           59.82\n",
       "192        9.720         18.22           60.73\n",
       "559       11.510         23.93           74.52\n",
       "\n",
       "[426 rows x 3 columns]"
      ]
     },
     "execution_count": 10,
     "metadata": {},
     "output_type": "execute_result"
    }
   ],
   "source": [
    "X_train"
   ]
  },
  {
   "cell_type": "code",
   "execution_count": 30,
   "id": "c18ee1a1-3549-492a-ba8c-438b0f380e74",
   "metadata": {},
   "outputs": [
    {
     "data": {
      "text/html": [
       "<div>\n",
       "<style scoped>\n",
       "    .dataframe tbody tr th:only-of-type {\n",
       "        vertical-align: middle;\n",
       "    }\n",
       "\n",
       "    .dataframe tbody tr th {\n",
       "        vertical-align: top;\n",
       "    }\n",
       "\n",
       "    .dataframe thead th {\n",
       "        text-align: right;\n",
       "    }\n",
       "</style>\n",
       "<table border=\"1\" class=\"dataframe\">\n",
       "  <thead>\n",
       "    <tr style=\"text-align: right;\">\n",
       "      <th></th>\n",
       "      <th>Tumor Type</th>\n",
       "    </tr>\n",
       "  </thead>\n",
       "  <tbody>\n",
       "    <tr>\n",
       "      <th>287</th>\n",
       "      <td>1</td>\n",
       "    </tr>\n",
       "    <tr>\n",
       "      <th>512</th>\n",
       "      <td>0</td>\n",
       "    </tr>\n",
       "    <tr>\n",
       "      <th>402</th>\n",
       "      <td>1</td>\n",
       "    </tr>\n",
       "    <tr>\n",
       "      <th>446</th>\n",
       "      <td>0</td>\n",
       "    </tr>\n",
       "    <tr>\n",
       "      <th>210</th>\n",
       "      <td>0</td>\n",
       "    </tr>\n",
       "    <tr>\n",
       "      <th>...</th>\n",
       "      <td>...</td>\n",
       "    </tr>\n",
       "    <tr>\n",
       "      <th>71</th>\n",
       "      <td>1</td>\n",
       "    </tr>\n",
       "    <tr>\n",
       "      <th>106</th>\n",
       "      <td>1</td>\n",
       "    </tr>\n",
       "    <tr>\n",
       "      <th>270</th>\n",
       "      <td>1</td>\n",
       "    </tr>\n",
       "    <tr>\n",
       "      <th>435</th>\n",
       "      <td>0</td>\n",
       "    </tr>\n",
       "    <tr>\n",
       "      <th>102</th>\n",
       "      <td>1</td>\n",
       "    </tr>\n",
       "  </tbody>\n",
       "</table>\n",
       "<p>426 rows × 1 columns</p>\n",
       "</div>"
      ],
      "text/plain": [
       "     Tumor Type\n",
       "287           1\n",
       "512           0\n",
       "402           1\n",
       "446           0\n",
       "210           0\n",
       "..          ...\n",
       "71            1\n",
       "106           1\n",
       "270           1\n",
       "435           0\n",
       "102           1\n",
       "\n",
       "[426 rows x 1 columns]"
      ]
     },
     "execution_count": 30,
     "metadata": {},
     "output_type": "execute_result"
    }
   ],
   "source": [
    "y_train"
   ]
  },
  {
   "cell_type": "code",
   "execution_count": 69,
   "id": "c43ead17-648c-4530-8a55-799713e8db85",
   "metadata": {},
   "outputs": [
    {
     "name": "stderr",
     "output_type": "stream",
     "text": [
      "C:\\Users\\michu\\AppData\\Local\\Programs\\Python\\Python312\\Lib\\site-packages\\sklearn\\utils\\validation.py:1183: DataConversionWarning: A column-vector y was passed when a 1d array was expected. Please change the shape of y to (n_samples, ), for example using ravel().\n",
      "  y = column_or_1d(y, warn=True)\n"
     ]
    }
   ],
   "source": [
    "#3. Entrenamiento del modelo\n",
    "modelLR.fit(X_train, y_train)\n",
    "\n",
    "#4. Predicción con el modelo para el test\n",
    "y_pred = modelLR.predict(X_test)\n"
   ]
  },
  {
   "cell_type": "code",
   "execution_count": 70,
   "id": "a9460bfd-6ea2-4ab9-af42-d2509ea0c625",
   "metadata": {},
   "outputs": [
    {
     "name": "stdout",
     "output_type": "stream",
     "text": [
      "              precision    recall  f1-score   support\n",
      "\n",
      "           0       0.89      0.94      0.92        54\n",
      "           1       0.97      0.93      0.95        89\n",
      "\n",
      "    accuracy                           0.94       143\n",
      "   macro avg       0.93      0.94      0.93       143\n",
      "weighted avg       0.94      0.94      0.94       143\n",
      "\n",
      "[[51  3]\n",
      " [ 6 83]]\n"
     ]
    }
   ],
   "source": [
    "#Informe de clasificación y matriz de confusión\n",
    "print(classification_report(y_test, y_pred))\n",
    "#print(f'Accuracy (exactitud): {accuracy_score(y_test, y_pred)}')\n",
    "print(confusion_matrix(y_test, y_pred))\n"
   ]
  },
  {
   "cell_type": "code",
   "execution_count": 71,
   "id": "45f72573-1ed2-4cb8-a945-0e3a37cafd8d",
   "metadata": {},
   "outputs": [
    {
     "data": {
      "image/png": "[encoded data removed]",
      "text/plain": [
       "<Figure size 1000x800 with 2 Axes>"
      ]
     },
     "metadata": {},
     "output_type": "display_data"
    }
   ],
   "source": [
    "# Dibujar la matriz de confusión, en donde 0 = malicious y 1 = non-malicious\n",
    "plt.figure(figsize=(10, 8))\n",
    "sns.heatmap(confusion_matrix(y_test, y_pred), annot=True, fmt='d', cmap='Blues', xticklabels=range(2), yticklabels=range(2))\n",
    "plt.xlabel('Predice')\n",
    "plt.ylabel('Actual')\n",
    "plt.title('Matriz de Confusión de TEST \\n 0 = Malignos y 1 = Benignos')\n",
    "plt.show()"
   ]
  },
  {
   "cell_type": "code",
   "execution_count": 72,
   "id": "626fc69a-f196-46e2-bb9d-566be157b273",
   "metadata": {},
   "outputs": [],
   "source": [
    "#MODELO ÁRBOL DE DECISIÓN\n",
    "#1. Inicialización.\n",
    "modelDT = DecisionTreeClassifier()\n",
    "\n"
   ]
  },
  {
   "cell_type": "code",
   "execution_count": 73,
   "id": "80b66321-988a-4006-8fc6-62b6764c92fe",
   "metadata": {},
   "outputs": [],
   "source": [
    "#2. División de datos en conjunto de evaluación y conjunto de entrenamiento\n",
    "X_train, X_test, y_train, y_test = train_test_split(X,y, random_state=42)"
   ]
  },
  {
   "cell_type": "code",
   "execution_count": 74,
   "id": "658e3d84-82f9-4940-a39b-16a9b3ae6e6a",
   "metadata": {},
   "outputs": [
    {
     "data": {
      "text/html": [
       "<style>#sk-container-id-14 {color: black;}#sk-container-id-14 pre{padding: 0;}#sk-container-id-14 div.sk-toggleable {background-color: white;}#sk-container-id-14 label.sk-toggleable__label {cursor: pointer;display: block;width: 100%;margin-bottom: 0;padding: 0.3em;box-sizing: border-box;text-align: center;}#sk-container-id-14 label.sk-toggleable__label-arrow:before {content: \"▸\";float: left;margin-right: 0.25em;color: #696969;}#sk-container-id-14 label.sk-toggleable__label-arrow:hover:before {color: black;}#sk-container-id-14 div.sk-estimator:hover label.sk-toggleable__label-arrow:before {color: black;}#sk-container-id-14 div.sk-toggleable__content {max-height: 0;max-width: 0;overflow: hidden;text-align: left;background-color: #f0f8ff;}#sk-container-id-14 div.sk-toggleable__content pre {margin: 0.2em;color: black;border-radius: 0.25em;background-color: #f0f8ff;}#sk-container-id-14 input.sk-toggleable__control:checked~div.sk-toggleable__content {max-height: 200px;max-width: 100%;overflow: auto;}#sk-container-id-14 input.sk-toggleable__control:checked~label.sk-toggleable__label-arrow:before {content: \"▾\";}#sk-container-id-14 div.sk-estimator input.sk-toggleable__control:checked~label.sk-toggleable__label {background-color: #d4ebff;}#sk-container-id-14 div.sk-label input.sk-toggleable__control:checked~label.sk-toggleable__label {background-color: #d4ebff;}#sk-container-id-14 input.sk-hidden--visually {border: 0;clip: rect(1px 1px 1px 1px);clip: rect(1px, 1px, 1px, 1px);height: 1px;margin: -1px;overflow: hidden;padding: 0;position: absolute;width: 1px;}#sk-container-id-14 div.sk-estimator {font-family: monospace;background-color: #f0f8ff;border: 1px dotted black;border-radius: 0.25em;box-sizing: border-box;margin-bottom: 0.5em;}#sk-container-id-14 div.sk-estimator:hover {background-color: #d4ebff;}#sk-container-id-14 div.sk-parallel-item::after {content: \"\";width: 100%;border-bottom: 1px solid gray;flex-grow: 1;}#sk-container-id-14 div.sk-label:hover label.sk-toggleable__label {background-color: #d4ebff;}#sk-container-id-14 div.sk-serial::before {content: \"\";position: absolute;border-left: 1px solid gray;box-sizing: border-box;top: 0;bottom: 0;left: 50%;z-index: 0;}#sk-container-id-14 div.sk-serial {display: flex;flex-direction: column;align-items: center;background-color: white;padding-right: 0.2em;padding-left: 0.2em;position: relative;}#sk-container-id-14 div.sk-item {position: relative;z-index: 1;}#sk-container-id-14 div.sk-parallel {display: flex;align-items: stretch;justify-content: center;background-color: white;position: relative;}#sk-container-id-14 div.sk-item::before, #sk-container-id-14 div.sk-parallel-item::before {content: \"\";position: absolute;border-left: 1px solid gray;box-sizing: border-box;top: 0;bottom: 0;left: 50%;z-index: -1;}#sk-container-id-14 div.sk-parallel-item {display: flex;flex-direction: column;z-index: 1;position: relative;background-color: white;}#sk-container-id-14 div.sk-parallel-item:first-child::after {align-self: flex-end;width: 50%;}#sk-container-id-14 div.sk-parallel-item:last-child::after {align-self: flex-start;width: 50%;}#sk-container-id-14 div.sk-parallel-item:only-child::after {width: 0;}#sk-container-id-14 div.sk-dashed-wrapped {border: 1px dashed gray;margin: 0 0.4em 0.5em 0.4em;box-sizing: border-box;padding-bottom: 0.4em;background-color: white;}#sk-container-id-14 div.sk-label label {font-family: monospace;font-weight: bold;display: inline-block;line-height: 1.2em;}#sk-container-id-14 div.sk-label-container {text-align: center;}#sk-container-id-14 div.sk-container {/* jupyter's `normalize.less` sets `[hidden] { display: none; }` but bootstrap.min.css set `[hidden] { display: none !important; }` so we also need the `!important` here to be able to override the default hidden behavior on the sphinx rendered scikit-learn.org. See: https://github.com/scikit-learn/scikit-learn/issues/21755 */display: inline-block !important;position: relative;}#sk-container-id-14 div.sk-text-repr-fallback {display: none;}</style><div id=\"sk-container-id-14\" class=\"sk-top-container\"><div class=\"sk-text-repr-fallback\"><pre>DecisionTreeClassifier()</pre><b>In a Jupyter environment, please rerun this cell to show the HTML representation or trust the notebook. <br />On GitHub, the HTML representation is unable to render, please try loading this page with nbviewer.org.</b></div><div class=\"sk-container\" hidden><div class=\"sk-item\"><div class=\"sk-estimator sk-toggleable\"><input class=\"sk-toggleable__control sk-hidden--visually\" id=\"sk-estimator-id-14\" type=\"checkbox\" checked><label for=\"sk-estimator-id-14\" class=\"sk-toggleable__label sk-toggleable__label-arrow\">DecisionTreeClassifier</label><div class=\"sk-toggleable__content\"><pre>DecisionTreeClassifier()</pre></div></div></div></div></div>"
      ],
      "text/plain": [
       "DecisionTreeClassifier()"
      ]
     },
     "execution_count": 74,
     "metadata": {},
     "output_type": "execute_result"
    }
   ],
   "source": [
    "#3. Entrenamiento del modelo\n",
    "modelDT.fit(X_train,y_train)\n"
   ]
  },
  {
   "cell_type": "code",
   "execution_count": 75,
   "id": "2d4bb555-44b0-4cf2-9ac2-b592e87446d9",
   "metadata": {},
   "outputs": [],
   "source": [
    "#4. Predicción con el modelo\n",
    "y_pred = modelDT.predict(X_test)"
   ]
  },
  {
   "cell_type": "code",
   "execution_count": 76,
   "id": "db58f749-7c58-498d-8e21-3df3034f9e67",
   "metadata": {
    "scrolled": true
   },
   "outputs": [
    {
     "name": "stdout",
     "output_type": "stream",
     "text": [
      "              precision    recall  f1-score   support\n",
      "\n",
      "           0       0.88      0.93      0.90        54\n",
      "           1       0.95      0.92      0.94        89\n",
      "\n",
      "    accuracy                           0.92       143\n",
      "   macro avg       0.92      0.92      0.92       143\n",
      "weighted avg       0.92      0.92      0.92       143\n",
      "\n",
      "[[50  4]\n",
      " [ 7 82]]\n"
     ]
    }
   ],
   "source": [
    "#Informe de clasificación y matriz de confusión\n",
    "print(classification_report(y_test, y_pred))\n",
    "#print(f'Accuracy (exactitud): {accuracy_score(y_test, y_pred)}')\n",
    "print(confusion_matrix(y_test, y_pred))"
   ]
  },
  {
   "cell_type": "code",
   "execution_count": 77,
   "id": "3d6a817f-a864-4d79-aa95-308cbc35b4da",
   "metadata": {},
   "outputs": [
    {
     "data": {
      "image/png": "[encoded data removed]",
      "text/plain": [
       "<Figure size 1000x800 with 2 Axes>"
      ]
     },
     "metadata": {},
     "output_type": "display_data"
    }
   ],
   "source": [
    "# Dibujar la matriz de confusión, en donde 0 = Malignos y 1 = Beningnos\n",
    "plt.figure(figsize=(10, 8))\n",
    "sns.heatmap(confusion_matrix(y_test, y_pred), annot=True, fmt='d', cmap='Blues', xticklabels=range(2), yticklabels=range(2))\n",
    "plt.xlabel('Predice')\n",
    "plt.ylabel('Actual')\n",
    "plt.title('Matriz de Confusión de TEST \\n 0 = Malignos y 1 = Benignos')\n",
    "plt.show()"
   ]
  },
  {
   "cell_type": "code",
   "execution_count": 80,
   "id": "438a709b-6552-4072-8e6b-09d56f8182e0",
   "metadata": {},
   "outputs": [],
   "source": [
    "########################################\n",
    "# ENTRENAMIENTO del modelo RandomForest#\n",
    "########################################\n",
    "modelRF = RandomForestClassifier(n_estimators=10, random_state=0, max_depth = 2)\n"
   ]
  },
  {
   "cell_type": "code",
   "execution_count": 81,
   "id": "d8760a9a-c42d-4246-81d9-0d759b5e8ec4",
   "metadata": {},
   "outputs": [],
   "source": [
    "#2. División de datos en conjunto de evaluación y conjunto de entrenamiento\n",
    "X_train, X_test, y_train, y_test = train_test_split(X,y, random_state=42)\n"
   ]
  },
  {
   "cell_type": "code",
   "execution_count": 82,
   "id": "648372d0-38a3-4947-b080-da2c938df53e",
   "metadata": {},
   "outputs": [
    {
     "name": "stderr",
     "output_type": "stream",
     "text": [
      "C:\\Users\\michu\\AppData\\Local\\Programs\\Python\\Python312\\Lib\\site-packages\\sklearn\\base.py:1152: DataConversionWarning: A column-vector y was passed when a 1d array was expected. Please change the shape of y to (n_samples,), for example using ravel().\n",
      "  return fit_method(estimator, *args, **kwargs)\n"
     ]
    },
    {
     "data": {
      "text/html": [
       "<style>#sk-container-id-15 {color: black;}#sk-container-id-15 pre{padding: 0;}#sk-container-id-15 div.sk-toggleable {background-color: white;}#sk-container-id-15 label.sk-toggleable__label {cursor: pointer;display: block;width: 100%;margin-bottom: 0;padding: 0.3em;box-sizing: border-box;text-align: center;}#sk-container-id-15 label.sk-toggleable__label-arrow:before {content: \"▸\";float: left;margin-right: 0.25em;color: #696969;}#sk-container-id-15 label.sk-toggleable__label-arrow:hover:before {color: black;}#sk-container-id-15 div.sk-estimator:hover label.sk-toggleable__label-arrow:before {color: black;}#sk-container-id-15 div.sk-toggleable__content {max-height: 0;max-width: 0;overflow: hidden;text-align: left;background-color: #f0f8ff;}#sk-container-id-15 div.sk-toggleable__content pre {margin: 0.2em;color: black;border-radius: 0.25em;background-color: #f0f8ff;}#sk-container-id-15 input.sk-toggleable__control:checked~div.sk-toggleable__content {max-height: 200px;max-width: 100%;overflow: auto;}#sk-container-id-15 input.sk-toggleable__control:checked~label.sk-toggleable__label-arrow:before {content: \"▾\";}#sk-container-id-15 div.sk-estimator input.sk-toggleable__control:checked~label.sk-toggleable__label {background-color: #d4ebff;}#sk-container-id-15 div.sk-label input.sk-toggleable__control:checked~label.sk-toggleable__label {background-color: #d4ebff;}#sk-container-id-15 input.sk-hidden--visually {border: 0;clip: rect(1px 1px 1px 1px);clip: rect(1px, 1px, 1px, 1px);height: 1px;margin: -1px;overflow: hidden;padding: 0;position: absolute;width: 1px;}#sk-container-id-15 div.sk-estimator {font-family: monospace;background-color: #f0f8ff;border: 1px dotted black;border-radius: 0.25em;box-sizing: border-box;margin-bottom: 0.5em;}#sk-container-id-15 div.sk-estimator:hover {background-color: #d4ebff;}#sk-container-id-15 div.sk-parallel-item::after {content: \"\";width: 100%;border-bottom: 1px solid gray;flex-grow: 1;}#sk-container-id-15 div.sk-label:hover label.sk-toggleable__label {background-color: #d4ebff;}#sk-container-id-15 div.sk-serial::before {content: \"\";position: absolute;border-left: 1px solid gray;box-sizing: border-box;top: 0;bottom: 0;left: 50%;z-index: 0;}#sk-container-id-15 div.sk-serial {display: flex;flex-direction: column;align-items: center;background-color: white;padding-right: 0.2em;padding-left: 0.2em;position: relative;}#sk-container-id-15 div.sk-item {position: relative;z-index: 1;}#sk-container-id-15 div.sk-parallel {display: flex;align-items: stretch;justify-content: center;background-color: white;position: relative;}#sk-container-id-15 div.sk-item::before, #sk-container-id-15 div.sk-parallel-item::before {content: \"\";position: absolute;border-left: 1px solid gray;box-sizing: border-box;top: 0;bottom: 0;left: 50%;z-index: -1;}#sk-container-id-15 div.sk-parallel-item {display: flex;flex-direction: column;z-index: 1;position: relative;background-color: white;}#sk-container-id-15 div.sk-parallel-item:first-child::after {align-self: flex-end;width: 50%;}#sk-container-id-15 div.sk-parallel-item:last-child::after {align-self: flex-start;width: 50%;}#sk-container-id-15 div.sk-parallel-item:only-child::after {width: 0;}#sk-container-id-15 div.sk-dashed-wrapped {border: 1px dashed gray;margin: 0 0.4em 0.5em 0.4em;box-sizing: border-box;padding-bottom: 0.4em;background-color: white;}#sk-container-id-15 div.sk-label label {font-family: monospace;font-weight: bold;display: inline-block;line-height: 1.2em;}#sk-container-id-15 div.sk-label-container {text-align: center;}#sk-container-id-15 div.sk-container {/* jupyter's `normalize.less` sets `[hidden] { display: none; }` but bootstrap.min.css set `[hidden] { display: none !important; }` so we also need the `!important` here to be able to override the default hidden behavior on the sphinx rendered scikit-learn.org. See: https://github.com/scikit-learn/scikit-learn/issues/21755 */display: inline-block !important;position: relative;}#sk-container-id-15 div.sk-text-repr-fallback {display: none;}</style><div id=\"sk-container-id-15\" class=\"sk-top-container\"><div class=\"sk-text-repr-fallback\"><pre>RandomForestClassifier(max_depth=2, n_estimators=10, random_state=0)</pre><b>In a Jupyter environment, please rerun this cell to show the HTML representation or trust the notebook. <br />On GitHub, the HTML representation is unable to render, please try loading this page with nbviewer.org.</b></div><div class=\"sk-container\" hidden><div class=\"sk-item\"><div class=\"sk-estimator sk-toggleable\"><input class=\"sk-toggleable__control sk-hidden--visually\" id=\"sk-estimator-id-15\" type=\"checkbox\" checked><label for=\"sk-estimator-id-15\" class=\"sk-toggleable__label sk-toggleable__label-arrow\">RandomForestClassifier</label><div class=\"sk-toggleable__content\"><pre>RandomForestClassifier(max_depth=2, n_estimators=10, random_state=0)</pre></div></div></div></div></div>"
      ],
      "text/plain": [
       "RandomForestClassifier(max_depth=2, n_estimators=10, random_state=0)"
      ]
     },
     "execution_count": 82,
     "metadata": {},
     "output_type": "execute_result"
    }
   ],
   "source": [
    "#3. Entrenamiento del modelo\n",
    "modelRF.fit(X_train, y_train)"
   ]
  },
  {
   "cell_type": "code",
   "execution_count": 83,
   "id": "4a731d01-93ea-48aa-8950-915f2d0285e3",
   "metadata": {},
   "outputs": [],
   "source": [
    "#4. Predicción con el modelo\n",
    "y_pred= modelRF.predict(X_test)"
   ]
  },
  {
   "cell_type": "code",
   "execution_count": 84,
   "id": "664b29c2-9f89-43c5-8f28-067c3ecf9d5b",
   "metadata": {},
   "outputs": [
    {
     "name": "stdout",
     "output_type": "stream",
     "text": [
      "              precision    recall  f1-score   support\n",
      "\n",
      "           0       0.94      0.85      0.89        54\n",
      "           1       0.91      0.97      0.94        89\n",
      "\n",
      "    accuracy                           0.92       143\n",
      "   macro avg       0.93      0.91      0.92       143\n",
      "weighted avg       0.92      0.92      0.92       143\n",
      "\n",
      "[[46  8]\n",
      " [ 3 86]]\n"
     ]
    }
   ],
   "source": [
    "#Informe de clasificación y matriz de confusión\n",
    "print(classification_report(y_test, y_pred))\n",
    "#print(f'Accuracy (exactitud): {accuracy_score(y_test, y_pred)}')\n",
    "print(confusion_matrix(y_test, y_pred))"
   ]
  },
  {
   "cell_type": "code",
   "execution_count": 53,
   "id": "5f753d66-6131-4184-a3e3-833aec92dac5",
   "metadata": {},
   "outputs": [
    {
     "data": {
      "image/png": "[encoded data removed]",
      "text/plain": [
       "<Figure size 1000x800 with 2 Axes>"
      ]
     },
     "metadata": {},
     "output_type": "display_data"
    }
   ],
   "source": [
    "# Dibujar la matriz de confusión, en donde 0 = Malignos y 1 = Beningnos\n",
    "plt.figure(figsize=(10, 8))\n",
    "sns.heatmap(confusion_matrix(y_test, y_pred), annot=True, fmt='d', cmap='Blues', xticklabels=range(2), yticklabels=range(2))\n",
    "plt.xlabel('Predice')\n",
    "plt.ylabel('Actual')\n",
    "plt.title('Matriz de Confusión de TEST \\n 0 = Malignos y 1 = Benignos')\n",
    "plt.show()"
   ]
  },
  {
   "cell_type": "code",
   "execution_count": 62,
   "id": "05bbdadc-a7a2-4a7a-87af-5c8c010d1fbf",
   "metadata": {},
   "outputs": [
    {
     "name": "stderr",
     "output_type": "stream",
     "text": [
      "C:\\Users\\michu\\AppData\\Local\\Programs\\Python\\Python312\\Lib\\site-packages\\sklearn\\utils\\validation.py:1183: DataConversionWarning: A column-vector y was passed when a 1d array was expected. Please change the shape of y to (n_samples, ), for example using ravel().\n",
      "  y = column_or_1d(y, warn=True)\n"
     ]
    },
    {
     "data": {
      "text/html": [
       "<style>#sk-container-id-13 {color: black;}#sk-container-id-13 pre{padding: 0;}#sk-container-id-13 div.sk-toggleable {background-color: white;}#sk-container-id-13 label.sk-toggleable__label {cursor: pointer;display: block;width: 100%;margin-bottom: 0;padding: 0.3em;box-sizing: border-box;text-align: center;}#sk-container-id-13 label.sk-toggleable__label-arrow:before {content: \"▸\";float: left;margin-right: 0.25em;color: #696969;}#sk-container-id-13 label.sk-toggleable__label-arrow:hover:before {color: black;}#sk-container-id-13 div.sk-estimator:hover label.sk-toggleable__label-arrow:before {color: black;}#sk-container-id-13 div.sk-toggleable__content {max-height: 0;max-width: 0;overflow: hidden;text-align: left;background-color: #f0f8ff;}#sk-container-id-13 div.sk-toggleable__content pre {margin: 0.2em;color: black;border-radius: 0.25em;background-color: #f0f8ff;}#sk-container-id-13 input.sk-toggleable__control:checked~div.sk-toggleable__content {max-height: 200px;max-width: 100%;overflow: auto;}#sk-container-id-13 input.sk-toggleable__control:checked~label.sk-toggleable__label-arrow:before {content: \"▾\";}#sk-container-id-13 div.sk-estimator input.sk-toggleable__control:checked~label.sk-toggleable__label {background-color: #d4ebff;}#sk-container-id-13 div.sk-label input.sk-toggleable__control:checked~label.sk-toggleable__label {background-color: #d4ebff;}#sk-container-id-13 input.sk-hidden--visually {border: 0;clip: rect(1px 1px 1px 1px);clip: rect(1px, 1px, 1px, 1px);height: 1px;margin: -1px;overflow: hidden;padding: 0;position: absolute;width: 1px;}#sk-container-id-13 div.sk-estimator {font-family: monospace;background-color: #f0f8ff;border: 1px dotted black;border-radius: 0.25em;box-sizing: border-box;margin-bottom: 0.5em;}#sk-container-id-13 div.sk-estimator:hover {background-color: #d4ebff;}#sk-container-id-13 div.sk-parallel-item::after {content: \"\";width: 100%;border-bottom: 1px solid gray;flex-grow: 1;}#sk-container-id-13 div.sk-label:hover label.sk-toggleable__label {background-color: #d4ebff;}#sk-container-id-13 div.sk-serial::before {content: \"\";position: absolute;border-left: 1px solid gray;box-sizing: border-box;top: 0;bottom: 0;left: 50%;z-index: 0;}#sk-container-id-13 div.sk-serial {display: flex;flex-direction: column;align-items: center;background-color: white;padding-right: 0.2em;padding-left: 0.2em;position: relative;}#sk-container-id-13 div.sk-item {position: relative;z-index: 1;}#sk-container-id-13 div.sk-parallel {display: flex;align-items: stretch;justify-content: center;background-color: white;position: relative;}#sk-container-id-13 div.sk-item::before, #sk-container-id-13 div.sk-parallel-item::before {content: \"\";position: absolute;border-left: 1px solid gray;box-sizing: border-box;top: 0;bottom: 0;left: 50%;z-index: -1;}#sk-container-id-13 div.sk-parallel-item {display: flex;flex-direction: column;z-index: 1;position: relative;background-color: white;}#sk-container-id-13 div.sk-parallel-item:first-child::after {align-self: flex-end;width: 50%;}#sk-container-id-13 div.sk-parallel-item:last-child::after {align-self: flex-start;width: 50%;}#sk-container-id-13 div.sk-parallel-item:only-child::after {width: 0;}#sk-container-id-13 div.sk-dashed-wrapped {border: 1px dashed gray;margin: 0 0.4em 0.5em 0.4em;box-sizing: border-box;padding-bottom: 0.4em;background-color: white;}#sk-container-id-13 div.sk-label label {font-family: monospace;font-weight: bold;display: inline-block;line-height: 1.2em;}#sk-container-id-13 div.sk-label-container {text-align: center;}#sk-container-id-13 div.sk-container {/* jupyter's `normalize.less` sets `[hidden] { display: none; }` but bootstrap.min.css set `[hidden] { display: none !important; }` so we also need the `!important` here to be able to override the default hidden behavior on the sphinx rendered scikit-learn.org. See: https://github.com/scikit-learn/scikit-learn/issues/21755 */display: inline-block !important;position: relative;}#sk-container-id-13 div.sk-text-repr-fallback {display: none;}</style><div id=\"sk-container-id-13\" class=\"sk-top-container\"><div class=\"sk-text-repr-fallback\"><pre>SVC(gamma=0.1)</pre><b>In a Jupyter environment, please rerun this cell to show the HTML representation or trust the notebook. <br />On GitHub, the HTML representation is unable to render, please try loading this page with nbviewer.org.</b></div><div class=\"sk-container\" hidden><div class=\"sk-item\"><div class=\"sk-estimator sk-toggleable\"><input class=\"sk-toggleable__control sk-hidden--visually\" id=\"sk-estimator-id-13\" type=\"checkbox\" checked><label for=\"sk-estimator-id-13\" class=\"sk-toggleable__label sk-toggleable__label-arrow\">SVC</label><div class=\"sk-toggleable__content\"><pre>SVC(gamma=0.1)</pre></div></div></div></div></div>"
      ],
      "text/plain": [
       "SVC(gamma=0.1)"
      ]
     },
     "execution_count": 62,
     "metadata": {},
     "output_type": "execute_result"
    }
   ],
   "source": [
    "#########################################################\n",
    "# ENTRENAMIENTO del modelo SVM (Support Vector Machines)#\n",
    "#########################################################\n",
    "modelo_svc = SVC(gamma = 0.1)\n",
    "modelo_svc.fit(X_train, y_train)"
   ]
  },
  {
   "cell_type": "code",
   "execution_count": 63,
   "id": "060f705a-f25a-4c1c-a3e7-5cbb96dcb684",
   "metadata": {},
   "outputs": [],
   "source": [
    "#Predecir los resultados para el conjunto de TEST.\n",
    "y_pred = modelo_svc.predict(X_test)"
   ]
  },
  {
   "cell_type": "code",
   "execution_count": 64,
   "id": "8389855d-11f0-46f0-bdb9-8a1f53336171",
   "metadata": {},
   "outputs": [
    {
     "name": "stdout",
     "output_type": "stream",
     "text": [
      "              precision    recall  f1-score   support\n",
      "\n",
      "           0       0.84      0.87      0.85        53\n",
      "           1       0.92      0.90      0.91        90\n",
      "\n",
      "    accuracy                           0.89       143\n",
      "   macro avg       0.88      0.88      0.88       143\n",
      "weighted avg       0.89      0.89      0.89       143\n",
      "\n",
      "[[46  7]\n",
      " [ 9 81]]\n"
     ]
    }
   ],
   "source": [
    "#Informe de clasificación y matriz de confusión\n",
    "print(classification_report(y_test, y_pred))\n",
    "#print(f'Accuracy (exactitud): {accuracy_score(y_test, y_pred)}')\n",
    "print(confusion_matrix(y_test, y_pred))"
   ]
  }
 ],
 "metadata": {
  "kernelspec": {
   "display_name": "Python 3 (ipykernel)",
   "language": "python",
   "name": "python3"
  },
  "language_info": {
   "codemirror_mode": {
    "name": "ipython",
    "version": 3
   },
   "file_extension": ".py",
   "mimetype": "text/x-python",
   "name": "python",
   "nbconvert_exporter": "python",
   "pygments_lexer": "ipython3",
   "version": "3.12.0"
  }
 },
 "nbformat": 4,
 "nbformat_minor": 5
}
